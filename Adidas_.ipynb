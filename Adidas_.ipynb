{
  "nbformat": 4,
  "nbformat_minor": 0,
  "metadata": {
    "colab": {
      "provenance": [],
      "authorship_tag": "ABX9TyOlDSov6X0ipXX8AywDztLh",
      "include_colab_link": true
    },
    "kernelspec": {
      "name": "python3",
      "display_name": "Python 3"
    },
    "language_info": {
      "name": "python"
    }
  },
  "cells": [
    {
      "cell_type": "markdown",
      "metadata": {
        "id": "view-in-github",
        "colab_type": "text"
      },
      "source": [
        "<a href=\"https://colab.research.google.com/github/anujasm34/magic-water/blob/main/Adidas_.ipynb\" target=\"_parent\"><img src=\"https://colab.research.google.com/assets/colab-badge.svg\" alt=\"Open In Colab\"/></a>"
      ]
    },
    {
      "cell_type": "markdown",
      "source": [
        "1. Adidas Sales Analysis\n",
        "• Problem: What are the trends with sales volume or specific purchases?\n",
        "\n",
        "• Activity: Perform statistical analysis (regression, correlation, etc.) in Excel, Tableau/PowerBI, Python, or another tool to identify key takeaways\n",
        "\n",
        "• Data Set: Kaggle's Adidas Sales Dataset\n",
        "[https://www.kaggle.com/datasets/heemalichaudhari/adidas-sales-dataset]\n",
        "\n",
        "• Skills: Data Cleaning, Data/Statistical Analysis, Visualization, Classification, Communication"
      ],
      "metadata": {
        "id": "csndBKqFjcGb"
      }
    },
    {
      "cell_type": "markdown",
      "source": [],
      "metadata": {
        "id": "rx_zfgLAja_d"
      }
    },
    {
      "cell_type": "code",
      "source": [
        "pip install kaggle"
      ],
      "metadata": {
        "colab": {
          "base_uri": "https://localhost:8080/"
        },
        "id": "PNUE-v4tmYtZ",
        "outputId": "5bb0a298-5a72-4cb0-aa9f-c355f9262842"
      },
      "execution_count": 4,
      "outputs": [
        {
          "output_type": "stream",
          "name": "stdout",
          "text": [
            "Requirement already satisfied: kaggle in /usr/local/lib/python3.10/dist-packages (1.5.16)\n",
            "Requirement already satisfied: six>=1.10 in /usr/local/lib/python3.10/dist-packages (from kaggle) (1.16.0)\n",
            "Requirement already satisfied: certifi in /usr/local/lib/python3.10/dist-packages (from kaggle) (2024.2.2)\n",
            "Requirement already satisfied: python-dateutil in /usr/local/lib/python3.10/dist-packages (from kaggle) (2.8.2)\n",
            "Requirement already satisfied: requests in /usr/local/lib/python3.10/dist-packages (from kaggle) (2.31.0)\n",
            "Requirement already satisfied: tqdm in /usr/local/lib/python3.10/dist-packages (from kaggle) (4.66.2)\n",
            "Requirement already satisfied: python-slugify in /usr/local/lib/python3.10/dist-packages (from kaggle) (8.0.4)\n",
            "Requirement already satisfied: urllib3 in /usr/local/lib/python3.10/dist-packages (from kaggle) (2.0.7)\n",
            "Requirement already satisfied: bleach in /usr/local/lib/python3.10/dist-packages (from kaggle) (6.1.0)\n",
            "Requirement already satisfied: webencodings in /usr/local/lib/python3.10/dist-packages (from bleach->kaggle) (0.5.1)\n",
            "Requirement already satisfied: text-unidecode>=1.3 in /usr/local/lib/python3.10/dist-packages (from python-slugify->kaggle) (1.3)\n",
            "Requirement already satisfied: charset-normalizer<4,>=2 in /usr/local/lib/python3.10/dist-packages (from requests->kaggle) (3.3.2)\n",
            "Requirement already satisfied: idna<4,>=2.5 in /usr/local/lib/python3.10/dist-packages (from requests->kaggle) (3.7)\n"
          ]
        }
      ]
    },
    {
      "cell_type": "code",
      "source": [
        "import kaggle\n",
        "import pandas as pd\n",
        "from git import Repo\n",
        "\n",
        "# Define the dataset you want to download\n",
        "dataset_name = 'heemalichaudhari/adidas-sales-dataset'\n",
        "\n",
        "# Specify the directory where you want to save the dataset\n",
        "destination_path = 'C:\\Users\\anuja\\Downloads\\Adidas US Sales Datasets.xlsx'\n",
        "\n",
        "# Download the dataset\n",
        "kaggle.api.dataset_download_files(dataset_name, path=destination_path, unzip=True)\n",
        "\n",
        "# Load the dataset into pandas dataframe\n",
        "df = pd.read_csv('/Adidas Sales.csv')\n",
        "\n",
        "# Now you can use df as your dataset\n",
        "print(df.head())\n",
        "\n",
        "# Initialize a Git repository object\n",
        "repo = Repo.clone_from(\"https://github.com/anujasm34/magic-water.git\", \"/path/to/local/clone\")\n",
        "\n",
        "# Copy the dataset to your local clone directory\n",
        "df.to_csv(\"/path/to/local/clone/Adidas_Sales.csv\", index=False)\n",
        "\n",
        "# Add, commit, and push the changes to GitHub\n",
        "repo.index.add([\"Adidas_Sales.csv\"])\n",
        "repo.index.commit(\"Add Adidas Sales dataset\")\n",
        "origin = repo.remote(name='origin')\n",
        "origin.push()\n"
      ],
      "metadata": {
        "colab": {
          "base_uri": "https://localhost:8080/",
          "height": 106
        },
        "id": "b_IAM8oClQAQ",
        "outputId": "ea9c7a0c-9002-4d24-a43a-a9b2e2cf46cc"
      },
      "execution_count": 6,
      "outputs": [
        {
          "output_type": "error",
          "ename": "SyntaxError",
          "evalue": "(unicode error) 'unicodeescape' codec can't decode bytes in position 2-3: truncated \\UXXXXXXXX escape (<ipython-input-6-45bae370e5f1>, line 9)",
          "traceback": [
            "\u001b[0;36m  File \u001b[0;32m\"<ipython-input-6-45bae370e5f1>\"\u001b[0;36m, line \u001b[0;32m9\u001b[0m\n\u001b[0;31m    destination_path = 'C:\\Users\\anuja\\Downloads\\Adidas US Sales Datasets.xlsx'\u001b[0m\n\u001b[0m                                                                               ^\u001b[0m\n\u001b[0;31mSyntaxError\u001b[0m\u001b[0;31m:\u001b[0m (unicode error) 'unicodeescape' codec can't decode bytes in position 2-3: truncated \\UXXXXXXXX escape\n"
          ]
        }
      ]
    },
    {
      "cell_type": "code",
      "source": [],
      "metadata": {
        "id": "LXt53bKpme55"
      },
      "execution_count": null,
      "outputs": []
    }
  ]
}